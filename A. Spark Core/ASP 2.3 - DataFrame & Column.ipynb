{
 "cells": [
  {
   "cell_type": "markdown",
   "metadata": {
    "application/vnd.databricks.v1+cell": {
     "cellMetadata": {},
     "inputWidgets": {},
     "nuid": "4faa1a33-0c1f-43ba-b913-8a4525ce5674",
     "showTitle": false,
     "title": ""
    }
   },
   "source": [
    "\n",
    "<div style=\"text-align: center; line-height: 0; padding-top: 9px;\">\n",
    "  <img src=\"https://databricks.com/wp-content/uploads/2018/03/db-academy-rgb-1200px.png\" alt=\"Databricks Learning\" style=\"width: 600px\">\n",
    "</div>"
   ]
  },
  {
   "cell_type": "markdown",
   "metadata": {
    "application/vnd.databricks.v1+cell": {
     "cellMetadata": {},
     "inputWidgets": {},
     "nuid": "8cd39ae1-c66e-4f03-93b9-1b7804449814",
     "showTitle": false,
     "title": "--i18n-5505ea67-f96e-40fd-9c2a-bd4c644c928d"
    }
   },
   "source": [
    "\n",
    "\n",
    "\n",
    "# DataFrame & Column\n",
    "##### Objectives\n",
    "1. Construct columns\n",
    "1. Subset columns\n",
    "1. Add or replace columns\n",
    "1. Subset rows\n",
    "1. Sort rows\n",
    "\n",
    "##### Methods\n",
    "- <a href=\"https://spark.apache.org/docs/latest/api/python/reference/pyspark.sql/dataframe.html\" target=\"_blank\">DataFrame</a>: **`select`**, **`selectExpr`**, **`drop`**, **`withColumn`**, **`withColumnRenamed`**, **`filter`**, **`distinct`**, **`limit`**, **`sort`**\n",
    "- <a href=\"https://spark.apache.org/docs/latest/api/python/reference/pyspark.sql/column.html\" target=\"_blank\">Column</a>: **`alias`**, **`isin`**, **`cast`**, **`isNotNull`**, **`desc`**, operators"
   ]
  },
  {
   "cell_type": "code",
   "execution_count": 0,
   "metadata": {
    "application/vnd.databricks.v1+cell": {
     "cellMetadata": {
      "byteLimit": 2048000,
      "rowLimit": 10000
     },
     "inputWidgets": {},
     "nuid": "9e72797a-0662-40b2-9a12-965075e3788c",
     "showTitle": false,
     "title": ""
    }
   },
   "outputs": [],
   "source": [
    "%run ../Includes/Classroom-Setup"
   ]
  },
  {
   "cell_type": "markdown",
   "metadata": {
    "application/vnd.databricks.v1+cell": {
     "cellMetadata": {},
     "inputWidgets": {},
     "nuid": "66169a58-3893-4f2c-9918-ce448b795115",
     "showTitle": false,
     "title": "--i18n-b75891cc-f1e5-438b-be68-49f96665fee9"
    }
   },
   "source": [
    "\n",
    "\n",
    "\n",
    "Let's use the BedBricks events dataset."
   ]
  },
  {
   "cell_type": "code",
   "execution_count": 0,
   "metadata": {
    "application/vnd.databricks.v1+cell": {
     "cellMetadata": {
      "byteLimit": 2048000,
      "rowLimit": 10000
     },
     "inputWidgets": {},
     "nuid": "0c86200c-ae1f-47fd-bcaa-efb5e49af773",
     "showTitle": false,
     "title": ""
    }
   },
   "outputs": [],
   "source": [
    "events_df = spark.read.format(\"delta\").load(DA.paths.events)\n",
    "display(events_df)"
   ]
  },
  {
   "cell_type": "markdown",
   "metadata": {
    "application/vnd.databricks.v1+cell": {
     "cellMetadata": {},
     "inputWidgets": {},
     "nuid": "124b12de-9e52-4f04-9f22-26e83b453c7f",
     "showTitle": false,
     "title": "--i18n-5a4814ee-e5b1-42af-8dfd-beab9b1b3ce7"
    }
   },
   "source": [
    "\n",
    "\n",
    "\n",
    "## Column Expressions\n",
    "\n",
    "A <a href=\"https://spark.apache.org/docs/latest/api/python/reference/pyspark.sql/column.html\" target=\"_blank\">Column</a> is a logical construction that will be computed based on the data in a DataFrame using an expression\n",
    "\n",
    "Construct a new Column based on existing columns in a DataFrame"
   ]
  },
  {
   "cell_type": "code",
   "execution_count": 0,
   "metadata": {
    "application/vnd.databricks.v1+cell": {
     "cellMetadata": {
      "byteLimit": 2048000,
      "rowLimit": 10000
     },
     "inputWidgets": {},
     "nuid": "059addd5-eaee-4dce-8c79-d124518b2d5f",
     "showTitle": false,
     "title": ""
    }
   },
   "outputs": [],
   "source": [
    "from pyspark.sql.functions import col\n",
    "\n",
    "print(events_df.device)\n",
    "print(events_df[\"device\"])\n",
    "print(col(\"device\"))"
   ]
  },
  {
   "cell_type": "markdown",
   "metadata": {
    "application/vnd.databricks.v1+cell": {
     "cellMetadata": {},
     "inputWidgets": {},
     "nuid": "7dab6b2e-a1a6-496f-b3b4-adffa1b1bbb3",
     "showTitle": false,
     "title": "--i18n-d1d6ab85-093e-4f04-8610-2247222e563d"
    }
   },
   "source": [
    "\n",
    "\n",
    "Scala supports an additional syntax for creating a new Column based on existing columns in a DataFrame"
   ]
  },
  {
   "cell_type": "code",
   "execution_count": 0,
   "metadata": {
    "application/vnd.databricks.v1+cell": {
     "cellMetadata": {
      "byteLimit": 2048000,
      "rowLimit": 10000
     },
     "inputWidgets": {},
     "nuid": "3c0fde16-5a23-4ce8-813c-9c6ddff3f7a9",
     "showTitle": false,
     "title": ""
    }
   },
   "outputs": [],
   "source": [
    "%scala\n",
    "$\"device\""
   ]
  },
  {
   "cell_type": "markdown",
   "metadata": {
    "application/vnd.databricks.v1+cell": {
     "cellMetadata": {},
     "inputWidgets": {},
     "nuid": "dfb8b895-417d-44c3-9702-630d571bc0a9",
     "showTitle": false,
     "title": "--i18n-cc9be674-735b-44f0-9662-dc68b370af7a"
    }
   },
   "source": [
    "\n",
    "\n",
    "\n",
    "### Column Operators and Methods\n",
    "| Method | Description |\n",
    "| --- | --- |\n",
    "| \\*, + , <, >= | Math and comparison operators |\n",
    "| ==, != | Equality and inequality tests (Scala operators are **`===`** and **`=!=`**) |\n",
    "| alias | Gives the column an alias |\n",
    "| cast, astype | Casts the column to a different data type |\n",
    "| isNull, isNotNull, isNan | Is null, is not null, is NaN |\n",
    "| asc, desc | Returns a sort expression based on ascending/descending order of the column |"
   ]
  },
  {
   "cell_type": "markdown",
   "metadata": {
    "application/vnd.databricks.v1+cell": {
     "cellMetadata": {},
     "inputWidgets": {},
     "nuid": "d10e1403-b61d-4bcf-8581-7f04b0ab5f56",
     "showTitle": false,
     "title": "--i18n-3ecd52b1-c84e-4d14-9e1c-c03a48ca0f6f"
    }
   },
   "source": [
    "\n",
    "\n",
    "\n",
    "Create complex expressions with existing columns, operators, and methods."
   ]
  },
  {
   "cell_type": "code",
   "execution_count": 0,
   "metadata": {
    "application/vnd.databricks.v1+cell": {
     "cellMetadata": {
      "byteLimit": 2048000,
      "rowLimit": 10000
     },
     "inputWidgets": {},
     "nuid": "d5d058a4-de4f-4458-97d4-e48d7c50b15a",
     "showTitle": false,
     "title": ""
    }
   },
   "outputs": [],
   "source": [
    "col(\"ecommerce.purchase_revenue_in_usd\") + col(\"ecommerce.total_item_quantity\")\n",
    "col(\"event_timestamp\").desc()\n",
    "(col(\"ecommerce.purchase_revenue_in_usd\") * 100).cast(\"int\")"
   ]
  },
  {
   "cell_type": "markdown",
   "metadata": {
    "application/vnd.databricks.v1+cell": {
     "cellMetadata": {},
     "inputWidgets": {},
     "nuid": "1ab2a1c1-222d-4c3a-a821-5c06aa5d8af1",
     "showTitle": false,
     "title": "--i18n-8ba468bb-ee75-4540-a35a-331e94594e30"
    }
   },
   "source": [
    "\n",
    "\n",
    "Here's an example of using these column expressions in the context of a DataFrame"
   ]
  },
  {
   "cell_type": "code",
   "execution_count": 0,
   "metadata": {
    "application/vnd.databricks.v1+cell": {
     "cellMetadata": {
      "byteLimit": 2048000,
      "rowLimit": 10000
     },
     "inputWidgets": {},
     "nuid": "b41a9981-d90a-4d34-a009-8fa520708101",
     "showTitle": false,
     "title": ""
    }
   },
   "outputs": [],
   "source": [
    "rev_df = (events_df\n",
    "         .filter(col(\"ecommerce.purchase_revenue_in_usd\").isNotNull())\n",
    "         .withColumn(\"purchase_revenue\", (col(\"ecommerce.purchase_revenue_in_usd\") * 100).cast(\"int\"))\n",
    "         .withColumn(\"avg_purchase_revenue\", col(\"ecommerce.purchase_revenue_in_usd\") / col(\"ecommerce.total_item_quantity\"))\n",
    "         .sort(col(\"avg_purchase_revenue\").desc())\n",
    "        )\n",
    "\n",
    "display(rev_df)"
   ]
  },
  {
   "cell_type": "markdown",
   "metadata": {
    "application/vnd.databricks.v1+cell": {
     "cellMetadata": {},
     "inputWidgets": {},
     "nuid": "24ca99d0-b69c-4cff-bcec-78ef79b8dc7b",
     "showTitle": false,
     "title": "--i18n-0100a578-427a-4956-b2d6-d98e3a53cc6a"
    }
   },
   "source": [
    "\n",
    "\n",
    "## DataFrame Transformation Methods\n",
    "| Method | Description |\n",
    "| --- | --- |\n",
    "| **`select`** | Returns a new DataFrame by computing given expression for each element |\n",
    "| **`drop`** | Returns a new DataFrame with a column dropped |\n",
    "| **`withColumnRenamed`** | Returns a new DataFrame with a column renamed |\n",
    "| **`withColumn`** | Returns a new DataFrame by adding a column or replacing the existing column that has the same name |\n",
    "| **`filter`**, **`where`** | Filters rows using the given condition |\n",
    "| **`sort`**, **`orderBy`** | Returns a new DataFrame sorted by the given expressions |\n",
    "| **`dropDuplicates`**, **`distinct`** | Returns a new DataFrame with duplicate rows removed |\n",
    "| **`limit`** | Returns a new DataFrame by taking the first n rows |\n",
    "| **`groupBy`** | Groups the DataFrame using the specified columns, so we can run aggregation on them |"
   ]
  },
  {
   "cell_type": "markdown",
   "metadata": {
    "application/vnd.databricks.v1+cell": {
     "cellMetadata": {},
     "inputWidgets": {},
     "nuid": "3e38caad-601a-499d-81dc-f24d66ea4eae",
     "showTitle": false,
     "title": "--i18n-c89bbba2-4f55-4f22-addc-de25b23ee313"
    }
   },
   "source": [
    "\n",
    "\n",
    "### Subset columns\n",
    "Use DataFrame transformations to subset columns"
   ]
  },
  {
   "cell_type": "markdown",
   "metadata": {
    "application/vnd.databricks.v1+cell": {
     "cellMetadata": {},
     "inputWidgets": {},
     "nuid": "b1454c20-af8a-43db-a365-ccfcb6bd1136",
     "showTitle": false,
     "title": "--i18n-d57643b9-245e-450f-82b0-b77013f7b684"
    }
   },
   "source": [
    "\n",
    "\n",
    "#### **`select()`**\n",
    "Selects a list of columns or column based expressions"
   ]
  },
  {
   "cell_type": "code",
   "execution_count": 0,
   "metadata": {
    "application/vnd.databricks.v1+cell": {
     "cellMetadata": {
      "byteLimit": 2048000,
      "rowLimit": 10000
     },
     "inputWidgets": {},
     "nuid": "82883081-c809-4f5b-a954-603cb9c8d67a",
     "showTitle": false,
     "title": ""
    }
   },
   "outputs": [],
   "source": [
    "devices_df = events_df.select(\"user_id\", \"device\")\n",
    "display(devices_df)"
   ]
  },
  {
   "cell_type": "code",
   "execution_count": 0,
   "metadata": {
    "application/vnd.databricks.v1+cell": {
     "cellMetadata": {
      "byteLimit": 2048000,
      "rowLimit": 10000
     },
     "inputWidgets": {},
     "nuid": "0166ef7c-5f99-484a-a09e-c650919f1b75",
     "showTitle": false,
     "title": ""
    }
   },
   "outputs": [],
   "source": [
    "from pyspark.sql.functions import col\n",
    "\n",
    "locations_df = events_df.select(\n",
    "    \"user_id\", \n",
    "    col(\"geo.city\").alias(\"city\"), \n",
    "    col(\"geo.state\").alias(\"state\")\n",
    ")\n",
    "display(locations_df)"
   ]
  },
  {
   "cell_type": "markdown",
   "metadata": {
    "application/vnd.databricks.v1+cell": {
     "cellMetadata": {},
     "inputWidgets": {},
     "nuid": "b4feadd4-03a8-4b36-b757-7727c7f18a38",
     "showTitle": false,
     "title": "--i18n-2ff20919-fa16-4c29-b07e-d43010c8821d"
    }
   },
   "source": [
    "\n",
    "\n",
    "#### **`selectExpr()`**\n",
    "Selects a list of SQL expressions"
   ]
  },
  {
   "cell_type": "code",
   "execution_count": 0,
   "metadata": {
    "application/vnd.databricks.v1+cell": {
     "cellMetadata": {
      "byteLimit": 2048000,
      "rowLimit": 10000
     },
     "inputWidgets": {},
     "nuid": "455533da-91c4-4b96-bfb4-51fafdc7ffa3",
     "showTitle": false,
     "title": ""
    }
   },
   "outputs": [],
   "source": [
    "apple_df = events_df.selectExpr(\"user_id\", \"device in ('macOS', 'iOS') as apple_user\")\n",
    "display(apple_df)"
   ]
  },
  {
   "cell_type": "markdown",
   "metadata": {
    "application/vnd.databricks.v1+cell": {
     "cellMetadata": {},
     "inputWidgets": {},
     "nuid": "d307aebd-269e-4b44-a4ec-13405d0098c4",
     "showTitle": false,
     "title": "--i18n-eb07b09b-8dd2-4818-9f6f-7f7ad3a6b65e"
    }
   },
   "source": [
    "\n",
    "\n",
    "#### **`drop()`**\n",
    "Returns a new DataFrame after dropping the given column, specified as a string or Column object\n",
    "\n",
    "Use strings to specify multiple columns"
   ]
  },
  {
   "cell_type": "code",
   "execution_count": 0,
   "metadata": {
    "application/vnd.databricks.v1+cell": {
     "cellMetadata": {
      "byteLimit": 2048000,
      "rowLimit": 10000
     },
     "inputWidgets": {},
     "nuid": "b997cc6f-6cd3-4cff-a1a5-e6b511b66f89",
     "showTitle": false,
     "title": ""
    }
   },
   "outputs": [],
   "source": [
    "anonymous_df = events_df.drop(\"user_id\", \"geo\", \"device\")\n",
    "display(anonymous_df)"
   ]
  },
  {
   "cell_type": "code",
   "execution_count": 0,
   "metadata": {
    "application/vnd.databricks.v1+cell": {
     "cellMetadata": {
      "byteLimit": 2048000,
      "rowLimit": 10000
     },
     "inputWidgets": {},
     "nuid": "4a5b91b8-14bc-4646-bf41-5bc2ddf0c94d",
     "showTitle": false,
     "title": ""
    }
   },
   "outputs": [],
   "source": [
    "no_sales_df = events_df.drop(col(\"ecommerce\"))\n",
    "display(no_sales_df)\n"
   ]
  },
  {
   "cell_type": "markdown",
   "metadata": {
    "application/vnd.databricks.v1+cell": {
     "cellMetadata": {},
     "inputWidgets": {},
     "nuid": "c35427a5-ab5c-4a16-8474-9f1b9e8eda97",
     "showTitle": false,
     "title": "--i18n-a0632c28-d67f-4288-bf4e-1ade3df2b878"
    }
   },
   "source": [
    "\n",
    "\n",
    "### Add or replace columns\n",
    "Use DataFrame transformations to add or replace columns"
   ]
  },
  {
   "cell_type": "markdown",
   "metadata": {
    "application/vnd.databricks.v1+cell": {
     "cellMetadata": {},
     "inputWidgets": {},
     "nuid": "17d26ac6-a338-45ee-8b7d-65b463eaedb7",
     "showTitle": false,
     "title": "--i18n-30f0fff0-fb26-4e29-bb71-6d6d21535c18"
    }
   },
   "source": [
    "\n",
    "\n",
    "\n",
    "#### **`withColumn()`**\n",
    "Returns a new DataFrame by adding a column or replacing an existing column that has the same name."
   ]
  },
  {
   "cell_type": "code",
   "execution_count": 0,
   "metadata": {
    "application/vnd.databricks.v1+cell": {
     "cellMetadata": {
      "byteLimit": 2048000,
      "rowLimit": 10000
     },
     "inputWidgets": {},
     "nuid": "13eb1c50-f824-49df-a28a-77d6db6a8622",
     "showTitle": false,
     "title": ""
    }
   },
   "outputs": [],
   "source": [
    "mobile_df = events_df.withColumn(\"mobile\", col(\"device\").isin(\"iOS\", \"Android\"))\n",
    "display(mobile_df)"
   ]
  },
  {
   "cell_type": "code",
   "execution_count": 0,
   "metadata": {
    "application/vnd.databricks.v1+cell": {
     "cellMetadata": {
      "byteLimit": 2048000,
      "rowLimit": 10000
     },
     "inputWidgets": {},
     "nuid": "ba0b16ce-c325-4031-9f63-96988d6ebe84",
     "showTitle": false,
     "title": ""
    }
   },
   "outputs": [],
   "source": [
    "purchase_quantity_df = events_df.withColumn(\"purchase_quantity\", col(\"ecommerce.total_item_quantity\").cast(\"int\"))\n",
    "purchase_quantity_df.printSchema()"
   ]
  },
  {
   "cell_type": "markdown",
   "metadata": {
    "application/vnd.databricks.v1+cell": {
     "cellMetadata": {},
     "inputWidgets": {},
     "nuid": "4657e717-2f62-4366-a2be-06e1c9cfd496",
     "showTitle": false,
     "title": "--i18n-506e9b1b-a1f9-4bc9-86f7-db3b7d48ce7a"
    }
   },
   "source": [
    "\n",
    "\n",
    "\n",
    "#### **`withColumnRenamed()`**\n",
    "Returns a new DataFrame with a column renamed."
   ]
  },
  {
   "cell_type": "code",
   "execution_count": 0,
   "metadata": {
    "application/vnd.databricks.v1+cell": {
     "cellMetadata": {
      "byteLimit": 2048000,
      "rowLimit": 10000
     },
     "inputWidgets": {},
     "nuid": "5a5953fb-f93d-4ad1-8bf1-aa7ad6e73fb3",
     "showTitle": false,
     "title": ""
    }
   },
   "outputs": [],
   "source": [
    "location_df = events_df.withColumnRenamed(\"geo\", \"location\")\n",
    "display(location_df)"
   ]
  },
  {
   "cell_type": "markdown",
   "metadata": {
    "application/vnd.databricks.v1+cell": {
     "cellMetadata": {},
     "inputWidgets": {},
     "nuid": "8d7ab395-0b00-4ec4-b083-131fbd2f7c54",
     "showTitle": false,
     "title": "--i18n-ec6222b9-3810-4f96-b17d-5952f218d59c"
    }
   },
   "source": [
    "\n",
    "\n",
    "\n",
    "### Subset Rows\n",
    "Use DataFrame transformations to subset rows"
   ]
  },
  {
   "cell_type": "markdown",
   "metadata": {
    "application/vnd.databricks.v1+cell": {
     "cellMetadata": {},
     "inputWidgets": {},
     "nuid": "1ebe0d47-845d-44d5-b648-ad076e8b5b54",
     "showTitle": false,
     "title": "--i18n-aa67adfe-8712-40e9-9c2b-840dfda38ef9"
    }
   },
   "source": [
    "\n",
    "\n",
    "\n",
    "#### **`filter()`**\n",
    "Filters rows using the given SQL expression or column based condition.\n",
    "\n",
    "##### Alias: **`where`**"
   ]
  },
  {
   "cell_type": "code",
   "execution_count": 0,
   "metadata": {
    "application/vnd.databricks.v1+cell": {
     "cellMetadata": {
      "byteLimit": 2048000,
      "rowLimit": 10000
     },
     "inputWidgets": {},
     "nuid": "94310b46-902c-40ea-a903-ab8c25c678f2",
     "showTitle": false,
     "title": ""
    }
   },
   "outputs": [],
   "source": [
    "purchases_df = events_df.filter(\"ecommerce.total_item_quantity > 0\")\n",
    "display(purchases_df)"
   ]
  },
  {
   "cell_type": "code",
   "execution_count": 0,
   "metadata": {
    "application/vnd.databricks.v1+cell": {
     "cellMetadata": {
      "byteLimit": 2048000,
      "rowLimit": 10000
     },
     "inputWidgets": {},
     "nuid": "d74cdfd1-6f55-4c4b-b5ff-4782406cb47a",
     "showTitle": false,
     "title": ""
    }
   },
   "outputs": [],
   "source": [
    "revenue_df = events_df.filter(col(\"ecommerce.purchase_revenue_in_usd\").isNotNull())\n",
    "display(revenue_df)"
   ]
  },
  {
   "cell_type": "code",
   "execution_count": 0,
   "metadata": {
    "application/vnd.databricks.v1+cell": {
     "cellMetadata": {
      "byteLimit": 2048000,
      "rowLimit": 10000
     },
     "inputWidgets": {},
     "nuid": "1409da16-d563-4b31-a659-ada5f0b128e9",
     "showTitle": false,
     "title": ""
    }
   },
   "outputs": [],
   "source": [
    "android_df = events_df.filter((col(\"traffic_source\") != \"direct\") & (col(\"device\") == \"Android\"))\n",
    "display(android_df)"
   ]
  },
  {
   "cell_type": "markdown",
   "metadata": {
    "application/vnd.databricks.v1+cell": {
     "cellMetadata": {},
     "inputWidgets": {},
     "nuid": "9c4a2683-a408-4d3b-8f8a-b482a45d0f79",
     "showTitle": false,
     "title": "--i18n-1699cd7f-4bd1-431d-b277-6d6004848c56"
    }
   },
   "source": [
    "\n",
    "\n",
    "#### **`dropDuplicates()`**\n",
    "Returns a new DataFrame with duplicate rows removed, optionally considering only a subset of columns.\n",
    "\n",
    "##### Alias: **`distinct`**"
   ]
  },
  {
   "cell_type": "code",
   "execution_count": 0,
   "metadata": {
    "application/vnd.databricks.v1+cell": {
     "cellMetadata": {
      "byteLimit": 2048000,
      "rowLimit": 10000
     },
     "inputWidgets": {},
     "nuid": "b953cb3f-895a-49b5-a35f-ae6dfb7b8841",
     "showTitle": false,
     "title": ""
    }
   },
   "outputs": [],
   "source": [
    "display(events_df.distinct())"
   ]
  },
  {
   "cell_type": "code",
   "execution_count": 0,
   "metadata": {
    "application/vnd.databricks.v1+cell": {
     "cellMetadata": {
      "byteLimit": 2048000,
      "rowLimit": 10000
     },
     "inputWidgets": {},
     "nuid": "d197e318-2870-4c5f-a560-e7cd610c2698",
     "showTitle": false,
     "title": ""
    }
   },
   "outputs": [],
   "source": [
    "distinct_users_df = events_df.dropDuplicates([\"user_id\"])\n",
    "display(distinct_users_df)"
   ]
  },
  {
   "cell_type": "markdown",
   "metadata": {
    "application/vnd.databricks.v1+cell": {
     "cellMetadata": {},
     "inputWidgets": {},
     "nuid": "ec02fc39-30a1-4fa9-9428-0337fae706a4",
     "showTitle": false,
     "title": "--i18n-e8daf914-afef-4159-9414-23bde2efd76a"
    }
   },
   "source": [
    "\n",
    "\n",
    "#### **`limit()`**\n",
    "Returns a new DataFrame by taking the first n rows."
   ]
  },
  {
   "cell_type": "code",
   "execution_count": 0,
   "metadata": {
    "application/vnd.databricks.v1+cell": {
     "cellMetadata": {
      "byteLimit": 2048000,
      "rowLimit": 10000
     },
     "inputWidgets": {},
     "nuid": "0a656fd1-3bc7-4599-b845-0b64afa2e77f",
     "showTitle": false,
     "title": ""
    }
   },
   "outputs": [],
   "source": [
    "limit_df = events_df.limit(100)\n",
    "display(limit_df)"
   ]
  },
  {
   "cell_type": "markdown",
   "metadata": {
    "application/vnd.databricks.v1+cell": {
     "cellMetadata": {},
     "inputWidgets": {},
     "nuid": "58cf9b14-3f29-4f35-883b-86d900924036",
     "showTitle": false,
     "title": "--i18n-06c7f4a5-02b7-44f6-a29d-213ee2976d48"
    }
   },
   "source": [
    "\n",
    "\n",
    "### Sort rows\n",
    "Use DataFrame transformations to sort rows"
   ]
  },
  {
   "cell_type": "markdown",
   "metadata": {
    "application/vnd.databricks.v1+cell": {
     "cellMetadata": {},
     "inputWidgets": {},
     "nuid": "faa4423f-913b-41a4-959c-32e04d4325bd",
     "showTitle": false,
     "title": "--i18n-50c39ed4-f70d-45b7-a452-22b819c0bb30"
    }
   },
   "source": [
    "\n",
    "\n",
    "#### **`sort()`**\n",
    "Returns a new DataFrame sorted by the given columns or expressions.\n",
    "\n",
    "##### Alias: **`orderBy`**"
   ]
  },
  {
   "cell_type": "code",
   "execution_count": 0,
   "metadata": {
    "application/vnd.databricks.v1+cell": {
     "cellMetadata": {
      "byteLimit": 2048000,
      "rowLimit": 10000
     },
     "inputWidgets": {},
     "nuid": "044e00ce-08b5-4852-a572-198b3a35e10b",
     "showTitle": false,
     "title": ""
    }
   },
   "outputs": [],
   "source": [
    "increase_timestamps_df = events_df.sort(\"event_timestamp\")\n",
    "display(increase_timestamps_df)"
   ]
  },
  {
   "cell_type": "code",
   "execution_count": 0,
   "metadata": {
    "application/vnd.databricks.v1+cell": {
     "cellMetadata": {
      "byteLimit": 2048000,
      "rowLimit": 10000
     },
     "inputWidgets": {},
     "nuid": "304b41a6-6594-42b5-8a9b-5418973e74cd",
     "showTitle": false,
     "title": ""
    }
   },
   "outputs": [],
   "source": [
    "decrease_timestamp_df = events_df.sort(col(\"event_timestamp\").desc())\n",
    "display(decrease_timestamp_df)"
   ]
  },
  {
   "cell_type": "code",
   "execution_count": 0,
   "metadata": {
    "application/vnd.databricks.v1+cell": {
     "cellMetadata": {
      "byteLimit": 2048000,
      "rowLimit": 10000
     },
     "inputWidgets": {},
     "nuid": "b9736b1d-bced-426e-9f95-2cf25a9b062a",
     "showTitle": false,
     "title": ""
    }
   },
   "outputs": [],
   "source": [
    "increase_sessions_df = events_df.orderBy([\"user_first_touch_timestamp\", \"event_timestamp\"])\n",
    "display(increase_sessions_df)"
   ]
  },
  {
   "cell_type": "code",
   "execution_count": 0,
   "metadata": {
    "application/vnd.databricks.v1+cell": {
     "cellMetadata": {
      "byteLimit": 2048000,
      "rowLimit": 10000
     },
     "inputWidgets": {},
     "nuid": "6cfbd3eb-f459-49b8-a689-194c7ca569b9",
     "showTitle": false,
     "title": ""
    }
   },
   "outputs": [],
   "source": [
    "decrease_sessions_df = events_df.sort(col(\"user_first_touch_timestamp\").desc(), col(\"event_timestamp\"))\n",
    "display(decrease_sessions_df)"
   ]
  },
  {
   "cell_type": "markdown",
   "metadata": {
    "application/vnd.databricks.v1+cell": {
     "cellMetadata": {},
     "inputWidgets": {},
     "nuid": "5edf39c4-d304-4d4d-b207-f17cbc58ad40",
     "showTitle": false,
     "title": "--i18n-0062c495-c719-453d-a3eb-eb495d5bafd3"
    }
   },
   "source": [
    "\n",
    "\n",
    "### Clean up classroom"
   ]
  },
  {
   "cell_type": "code",
   "execution_count": 0,
   "metadata": {
    "application/vnd.databricks.v1+cell": {
     "cellMetadata": {
      "byteLimit": 2048000,
      "rowLimit": 10000
     },
     "inputWidgets": {},
     "nuid": "ca1dd31e-a503-4171-a3f5-e42b6a0d59ff",
     "showTitle": false,
     "title": ""
    }
   },
   "outputs": [],
   "source": [
    "DA.cleanup()"
   ]
  },
  {
   "cell_type": "markdown",
   "metadata": {
    "application/vnd.databricks.v1+cell": {
     "cellMetadata": {},
     "inputWidgets": {},
     "nuid": "6ca0591e-b13c-498f-b6c7-e1ff2a465cae",
     "showTitle": false,
     "title": ""
    }
   },
   "source": [
    "&copy; 2023 Databricks, Inc. All rights reserved.<br/>\n",
    "Apache, Apache Spark, Spark and the Spark logo are trademarks of the <a href=\"https://www.apache.org/\">Apache Software Foundation</a>.<br/>\n",
    "<br/>\n",
    "<a href=\"https://databricks.com/privacy-policy\">Privacy Policy</a> | <a href=\"https://databricks.com/terms-of-use\">Terms of Use</a> | <a href=\"https://help.databricks.com/\">Support</a>"
   ]
  }
 ],
 "metadata": {
  "application/vnd.databricks.v1+notebook": {
   "dashboards": [],
   "language": "python",
   "notebookMetadata": {
    "pythonIndentUnit": 2
   },
   "notebookName": "ASP 2.3 - DataFrame & Column",
   "widgets": {}
  }
 },
 "nbformat": 4,
 "nbformat_minor": 0
}
