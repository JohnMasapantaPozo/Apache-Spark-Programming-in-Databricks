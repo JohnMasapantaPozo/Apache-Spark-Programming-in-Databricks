{
 "cells": [
  {
   "cell_type": "markdown",
   "metadata": {
    "application/vnd.databricks.v1+cell": {
     "cellMetadata": {},
     "inputWidgets": {},
     "nuid": "f3ac54f0-5f93-4a6e-a87d-6ffd13e1d174",
     "showTitle": false,
     "title": ""
    }
   },
   "source": [
    "\n",
    "<div style=\"text-align: center; line-height: 0; padding-top: 9px;\">\n",
    "  <img src=\"https://databricks.com/wp-content/uploads/2018/03/db-academy-rgb-1200px.png\" alt=\"Databricks Learning\" style=\"width: 600px\">\n",
    "</div>"
   ]
  },
  {
   "cell_type": "markdown",
   "metadata": {
    "application/vnd.databricks.v1+cell": {
     "cellMetadata": {},
     "inputWidgets": {},
     "nuid": "bd88daad-6692-41a1-9721-90f050c5cf46",
     "showTitle": false,
     "title": "--i18n-29c969ba-b703-4861-9466-dbf95b81176f"
    }
   },
   "source": [
    "\n",
    "\n",
    "# Delta Lake\n",
    "\n",
    "##### Objectives\n",
    "1. Create a Delta Table\n",
    "1. Understand the transaction Log\n",
    "1. Read data from your Delta Table\n",
    "1. Update data in your Delta Table\n",
    "1. Access previous versions of table using time travel\n",
    "1. Vacuum\n",
    "\n",
    "##### Documentation\n",
    "- <a href=\"https://docs.delta.io/latest/quick-start.html#create-a-table\" target=\"_blank\">Delta Table</a> \n",
    "- <a href=\"https://databricks.com/blog/2019/08/21/diving-into-delta-lake-unpacking-the-transaction-log.html\" target=\"_blank\">Transaction Log</a> \n",
    "- <a href=\"https://databricks.com/blog/2019/02/04/introducing-delta-time-travel-for-large-scale-data-lakes.html\" target=\"_blank\">Time Travel</a>"
   ]
  },
  {
   "cell_type": "code",
   "execution_count": 0,
   "metadata": {
    "application/vnd.databricks.v1+cell": {
     "cellMetadata": {
      "byteLimit": 2048000,
      "rowLimit": 10000
     },
     "inputWidgets": {},
     "nuid": "64938057-0c29-48ca-a746-1bb57f3c9c51",
     "showTitle": false,
     "title": ""
    }
   },
   "outputs": [],
   "source": [
    "%run ../Includes/Classroom-Setup"
   ]
  },
  {
   "cell_type": "markdown",
   "metadata": {
    "application/vnd.databricks.v1+cell": {
     "cellMetadata": {},
     "inputWidgets": {},
     "nuid": "19c288cd-d0bd-46cc-bfbc-baa493ae55f4",
     "showTitle": false,
     "title": "--i18n-47af8ff4-2231-4e49-aefd-8832cf3bb995"
    }
   },
   "source": [
    "\n",
    "\n",
    "### Create a Delta Table\n",
    "Let's first read the Parquet-format BedBricks events dataset."
   ]
  },
  {
   "cell_type": "code",
   "execution_count": 0,
   "metadata": {
    "application/vnd.databricks.v1+cell": {
     "cellMetadata": {
      "byteLimit": 2048000,
      "rowLimit": 10000
     },
     "inputWidgets": {},
     "nuid": "ab26d8ba-b2f4-478f-8d40-0fa09916dd39",
     "showTitle": false,
     "title": ""
    }
   },
   "outputs": [],
   "source": [
    "events_df = spark.read.format(\"parquet\").load(f\"{DA.paths.datasets}/ecommerce/events/events.parquet\")\n",
    "display(events_df)"
   ]
  },
  {
   "cell_type": "markdown",
   "metadata": {
    "application/vnd.databricks.v1+cell": {
     "cellMetadata": {},
     "inputWidgets": {},
     "nuid": "5087349b-8ddf-4309-a31f-7bab944dd35e",
     "showTitle": false,
     "title": "--i18n-03fc4dbf-8242-4968-833e-47c9b405d455"
    }
   },
   "source": [
    "\n",
    "\n",
    "Write the data in Delta format to the directory given by **`delta_path`**."
   ]
  },
  {
   "cell_type": "code",
   "execution_count": 0,
   "metadata": {
    "application/vnd.databricks.v1+cell": {
     "cellMetadata": {
      "byteLimit": 2048000,
      "rowLimit": 10000
     },
     "inputWidgets": {},
     "nuid": "6ba91780-4ff3-4311-9f68-0ecded8566ae",
     "showTitle": false,
     "title": ""
    }
   },
   "outputs": [],
   "source": [
    "delta_path = f\"{DA.paths.working_dir}/delta-events\"\n",
    "events_df.write.format(\"delta\").mode(\"overwrite\").save(delta_path)"
   ]
  },
  {
   "cell_type": "markdown",
   "metadata": {
    "application/vnd.databricks.v1+cell": {
     "cellMetadata": {},
     "inputWidgets": {},
     "nuid": "a554c7a8-ca0a-4b69-b920-2b058d71b592",
     "showTitle": false,
     "title": "--i18n-aea460aa-80cd-401a-b82f-add4452425c5"
    }
   },
   "source": [
    "\n",
    "\n",
    "Write the data in Delta format as a managed table in the metastore."
   ]
  },
  {
   "cell_type": "code",
   "execution_count": 0,
   "metadata": {
    "application/vnd.databricks.v1+cell": {
     "cellMetadata": {
      "byteLimit": 2048000,
      "rowLimit": 10000
     },
     "inputWidgets": {},
     "nuid": "efcfe66c-72d1-4843-91f3-6a09c05a1148",
     "showTitle": false,
     "title": ""
    }
   },
   "outputs": [],
   "source": [
    "events_df.write.format(\"delta\").mode(\"overwrite\").saveAsTable(\"delta_events\")"
   ]
  },
  {
   "cell_type": "markdown",
   "metadata": {
    "application/vnd.databricks.v1+cell": {
     "cellMetadata": {},
     "inputWidgets": {},
     "nuid": "3ed831f0-51aa-4cb8-babd-d3ca498a9d5f",
     "showTitle": false,
     "title": "--i18n-48970b1e-8857-4675-9499-28ee9e438641"
    }
   },
   "source": [
    "\n",
    "\n",
    "\n",
    "As with other file formats, Delta supports partitioning your data in storage using the unique values in a specified column (often referred to as \"Hive partitioning\").\n",
    "\n",
    "Let's **overwrite** the Delta dataset in the **`delta_path`** directory to partition by state. This can accelerate queries that filter by state."
   ]
  },
  {
   "cell_type": "code",
   "execution_count": 0,
   "metadata": {
    "application/vnd.databricks.v1+cell": {
     "cellMetadata": {
      "byteLimit": 2048000,
      "rowLimit": 10000
     },
     "inputWidgets": {},
     "nuid": "8cc0a8a4-4db5-45fb-95fc-8457131530c4",
     "showTitle": false,
     "title": ""
    }
   },
   "outputs": [],
   "source": [
    "from pyspark.sql.functions import col\n",
    "\n",
    "state_events_df = events_df.withColumn(\"state\", col(\"geo.state\"))\n",
    "\n",
    "state_events_df.write.format(\"delta\").mode(\"overwrite\").partitionBy(\"state\").option(\"overwriteSchema\", \"true\").save(delta_path)"
   ]
  },
  {
   "cell_type": "markdown",
   "metadata": {
    "application/vnd.databricks.v1+cell": {
     "cellMetadata": {},
     "inputWidgets": {},
     "nuid": "8f05a82c-c4a3-48f0-823a-398b6a5a4b7c",
     "showTitle": false,
     "title": "--i18n-246546ce-4fe0-48c8-b698-26f5e70b7b75"
    }
   },
   "source": [
    "\n",
    "\n",
    "### Understand the Transaction Log\n",
    "We can see how Delta stores the different state partitions in separate directories.\n",
    "\n",
    "Additionally, we can also see a directory called **`_delta_log`**, which is the transaction log.\n",
    "\n",
    "When a Delta Lake dataset is created, its transaction log is automatically created in the **`_delta_log`** subdirectory."
   ]
  },
  {
   "cell_type": "code",
   "execution_count": 0,
   "metadata": {
    "application/vnd.databricks.v1+cell": {
     "cellMetadata": {
      "byteLimit": 2048000,
      "rowLimit": 10000
     },
     "inputWidgets": {},
     "nuid": "589f1618-b059-4460-997d-46dd46918900",
     "showTitle": false,
     "title": ""
    }
   },
   "outputs": [],
   "source": [
    "display(dbutils.fs.ls(delta_path))"
   ]
  },
  {
   "cell_type": "markdown",
   "metadata": {
    "application/vnd.databricks.v1+cell": {
     "cellMetadata": {},
     "inputWidgets": {},
     "nuid": "1b9cb346-a711-4e54-ac2f-eef7209e8439",
     "showTitle": false,
     "title": "--i18n-59dd5b49-90b4-49ad-bc4b-d88b9f1902c4"
    }
   },
   "source": [
    "\n",
    "\n",
    "\n",
    "When changes are made to that table, these changes are recorded as ordered, atomic commits in the transaction log.\n",
    "\n",
    "Each commit is written out as a JSON file, starting with 00000000000000000000.json.\n",
    "\n",
    "Additional changes to the table generate subsequent JSON files in ascending numerical order.\n",
    "\n",
    "<div style=\"img align: center; line-height: 0; padding-top: 9px;\">\n",
    "  <img src=\"https://user-images.githubusercontent.com/20408077/87174138-609fe600-c29c-11ea-90cc-84df0c1357f1.png\" width=\"500\"/>\n",
    "</div>"
   ]
  },
  {
   "cell_type": "code",
   "execution_count": 0,
   "metadata": {
    "application/vnd.databricks.v1+cell": {
     "cellMetadata": {
      "byteLimit": 2048000,
      "rowLimit": 10000
     },
     "inputWidgets": {},
     "nuid": "9b6bb9bb-512a-4793-9527-304b61c9b7f7",
     "showTitle": false,
     "title": ""
    }
   },
   "outputs": [],
   "source": [
    "display(dbutils.fs.ls(f\"{delta_path}/_delta_log/\"))"
   ]
  },
  {
   "cell_type": "markdown",
   "metadata": {
    "application/vnd.databricks.v1+cell": {
     "cellMetadata": {},
     "inputWidgets": {},
     "nuid": "a4082a9e-c682-4332-b4a3-7695ced71984",
     "showTitle": false,
     "title": "--i18n-07403490-e05e-4095-8168-9384ee6da385"
    }
   },
   "source": [
    "\n",
    "\n",
    "\n",
    "Next, let's take a look at a transaction log File.\n",
    "\n",
    "\n",
    "The <a href=\"https://docs.databricks.com/delta/delta-utility.html\" target=\"_blank\">four columns</a> each represent a different part of the very first commit to the Delta Table, creating the table.\n",
    "- The **`add`** column has statistics about the DataFrame as a whole and individual columns.\n",
    "- The **`commitInfo`** column has useful information about what the operation was (WRITE or READ) and who executed the operation.\n",
    "- The **`metaData`** column contains information about the column schema.\n",
    "- The **`protocol`** version contains information about the minimum Delta version necessary to either write or read to this Delta Table."
   ]
  },
  {
   "cell_type": "code",
   "execution_count": 0,
   "metadata": {
    "application/vnd.databricks.v1+cell": {
     "cellMetadata": {
      "byteLimit": 2048000,
      "rowLimit": 10000
     },
     "inputWidgets": {},
     "nuid": "30104ef0-3dcc-422c-9334-8fcaf1aecd2c",
     "showTitle": false,
     "title": ""
    }
   },
   "outputs": [],
   "source": [
    "display(spark.read.json(f\"{delta_path}/_delta_log/00000000000000000000.json\"))"
   ]
  },
  {
   "cell_type": "markdown",
   "metadata": {
    "application/vnd.databricks.v1+cell": {
     "cellMetadata": {},
     "inputWidgets": {},
     "nuid": "866e5b88-a4c6-4bfe-8738-008fee896868",
     "showTitle": false,
     "title": "--i18n-84a54908-8e70-42e8-93fb-355da0b3314c"
    }
   },
   "source": [
    "\n",
    "\n",
    "\n",
    "One key difference between these two transaction logs is the size of the JSON file, this file has 206 rows compared to the previous 7.\n",
    "\n",
    "To understand why, let's take a look at the **`commitInfo`** column. We can see that in the **`operationParameters`** section, **`partitionBy`** has been filled in by the **`state`** column. Furthermore, if we look at the add section on row 3, we can see that a new section called **`partitionValues`** has appeared. As we saw above, Delta stores partitions separately in memory, however, it stores information about these partitions in the same transaction log file."
   ]
  },
  {
   "cell_type": "code",
   "execution_count": 0,
   "metadata": {
    "application/vnd.databricks.v1+cell": {
     "cellMetadata": {
      "byteLimit": 2048000,
      "rowLimit": 10000
     },
     "inputWidgets": {},
     "nuid": "ac4e4338-7f4a-40df-975f-806619fa3884",
     "showTitle": false,
     "title": ""
    }
   },
   "outputs": [],
   "source": [
    "display(spark.read.json(f\"{delta_path}/_delta_log/00000000000000000001.json\"))"
   ]
  },
  {
   "cell_type": "markdown",
   "metadata": {
    "application/vnd.databricks.v1+cell": {
     "cellMetadata": {},
     "inputWidgets": {},
     "nuid": "82bf17ff-ca38-4b16-8359-1d3f4d17ad7c",
     "showTitle": false,
     "title": "--i18n-3794c8e9-c286-454b-ab04-4214d103e0ae"
    }
   },
   "source": [
    "\n",
    "\n",
    "\n",
    "Finally, let's take a look at the files inside one of the state partitions. The files inside corresponds to the partition commit (file 01) in the _delta_log directory."
   ]
  },
  {
   "cell_type": "code",
   "execution_count": 0,
   "metadata": {
    "application/vnd.databricks.v1+cell": {
     "cellMetadata": {
      "byteLimit": 2048000,
      "rowLimit": 10000
     },
     "inputWidgets": {},
     "nuid": "fa7e0eec-2ec6-469e-9742-4eeb266521e2",
     "showTitle": false,
     "title": ""
    }
   },
   "outputs": [],
   "source": [
    "display(dbutils.fs.ls(f\"{delta_path}/state=CA/\"))"
   ]
  },
  {
   "cell_type": "markdown",
   "metadata": {
    "application/vnd.databricks.v1+cell": {
     "cellMetadata": {},
     "inputWidgets": {},
     "nuid": "915f93cb-22b1-4ca7-b9e7-e52d9a6df986",
     "showTitle": false,
     "title": "--i18n-b523d430-c025-409e-a32b-4001c92a582b"
    }
   },
   "source": [
    "\n",
    "\n",
    "\n",
    "### Read from your Delta table"
   ]
  },
  {
   "cell_type": "code",
   "execution_count": 0,
   "metadata": {
    "application/vnd.databricks.v1+cell": {
     "cellMetadata": {
      "byteLimit": 2048000,
      "rowLimit": 10000
     },
     "inputWidgets": {},
     "nuid": "76f20fd1-71ef-4beb-9670-2981c56f4509",
     "showTitle": false,
     "title": ""
    }
   },
   "outputs": [],
   "source": [
    "df = spark.read.format(\"delta\").load(delta_path)\n",
    "display(df)"
   ]
  },
  {
   "cell_type": "markdown",
   "metadata": {
    "application/vnd.databricks.v1+cell": {
     "cellMetadata": {},
     "inputWidgets": {},
     "nuid": "66d56962-55d2-4efd-ae35-cfa796874d51",
     "showTitle": false,
     "title": "--i18n-d99c45c5-c19a-4a80-885d-1fa07841a4e8"
    }
   },
   "source": [
    "\n",
    "\n",
    "\n",
    "### Update your Delta Table\n",
    "\n",
    "Let's filter for rows where the event takes place on a mobile device."
   ]
  },
  {
   "cell_type": "code",
   "execution_count": 0,
   "metadata": {
    "application/vnd.databricks.v1+cell": {
     "cellMetadata": {
      "byteLimit": 2048000,
      "rowLimit": 10000
     },
     "inputWidgets": {},
     "nuid": "c50ce20f-2447-4f35-8289-b204475ba3ff",
     "showTitle": false,
     "title": ""
    }
   },
   "outputs": [],
   "source": [
    "df_update = state_events_df.filter(col(\"device\").isin([\"Android\", \"iOS\"]))\n",
    "display(df_update)"
   ]
  },
  {
   "cell_type": "code",
   "execution_count": 0,
   "metadata": {
    "application/vnd.databricks.v1+cell": {
     "cellMetadata": {
      "byteLimit": 2048000,
      "rowLimit": 10000
     },
     "inputWidgets": {},
     "nuid": "34ee9386-69e8-4bd9-88c7-ddb1d1e9721a",
     "showTitle": false,
     "title": ""
    }
   },
   "outputs": [],
   "source": [
    "df_update.write.format(\"delta\").mode(\"overwrite\").save(delta_path)"
   ]
  },
  {
   "cell_type": "code",
   "execution_count": 0,
   "metadata": {
    "application/vnd.databricks.v1+cell": {
     "cellMetadata": {
      "byteLimit": 2048000,
      "rowLimit": 10000
     },
     "inputWidgets": {},
     "nuid": "eb0d62d0-709b-462c-a011-695d2e366d17",
     "showTitle": false,
     "title": ""
    }
   },
   "outputs": [],
   "source": [
    "df = spark.read.format(\"delta\").load(delta_path)\n",
    "display(df)"
   ]
  },
  {
   "cell_type": "markdown",
   "metadata": {
    "application/vnd.databricks.v1+cell": {
     "cellMetadata": {},
     "inputWidgets": {},
     "nuid": "dc28ceb8-a2f4-436f-b74e-578331d7446c",
     "showTitle": false,
     "title": "--i18n-4974ded0-c507-45ab-9973-d9a6ede4a434"
    }
   },
   "source": [
    "\n",
    "\n",
    "\n",
    "Let's look at the files in the California partition post-update. Remember, the different files in this directory are snapshots of your DataFrame corresponding to different commits."
   ]
  },
  {
   "cell_type": "code",
   "execution_count": 0,
   "metadata": {
    "application/vnd.databricks.v1+cell": {
     "cellMetadata": {
      "byteLimit": 2048000,
      "rowLimit": 10000
     },
     "inputWidgets": {},
     "nuid": "a4821ec8-a724-4959-a77f-91fcec59e2aa",
     "showTitle": false,
     "title": ""
    }
   },
   "outputs": [],
   "source": [
    "display(dbutils.fs.ls(f\"{delta_path}/state=CA/\"))"
   ]
  },
  {
   "cell_type": "markdown",
   "metadata": {
    "application/vnd.databricks.v1+cell": {
     "cellMetadata": {},
     "inputWidgets": {},
     "nuid": "4b622f3a-5be7-4686-931d-226b7ed9f2b9",
     "showTitle": false,
     "title": "--i18n-a871e8d3-9a89-45b5-8f83-35fdf905b88e"
    }
   },
   "source": [
    "\n",
    "\n",
    "### Access previous versions of table using Time  Travel"
   ]
  },
  {
   "cell_type": "markdown",
   "metadata": {
    "application/vnd.databricks.v1+cell": {
     "cellMetadata": {},
     "inputWidgets": {},
     "nuid": "9d2c7148-da55-426a-98b3-e47a6ef966d3",
     "showTitle": false,
     "title": "--i18n-db5de62b-fb0b-448a-922a-e6737fcd04c2"
    }
   },
   "source": [
    "\n",
    "\n",
    "\n",
    "Oops, it turns out we actually we need the entire dataset! You can access a previous version of your Delta Table using Time Travel. Use the following two cells to access your version history. Delta Lake will keep a 30 day version history by default, but if necessary, Delta can store a version history for longer."
   ]
  },
  {
   "cell_type": "code",
   "execution_count": 0,
   "metadata": {
    "application/vnd.databricks.v1+cell": {
     "cellMetadata": {
      "byteLimit": 2048000,
      "rowLimit": 10000
     },
     "inputWidgets": {},
     "nuid": "0bf42819-9280-4a24-b1c6-d9bb77f486ba",
     "showTitle": false,
     "title": ""
    }
   },
   "outputs": [],
   "source": [
    "spark.sql(\"DROP TABLE IF EXISTS train_delta\")\n",
    "spark.sql(f\"CREATE TABLE train_delta USING DELTA LOCATION '{delta_path}'\")"
   ]
  },
  {
   "cell_type": "code",
   "execution_count": 0,
   "metadata": {
    "application/vnd.databricks.v1+cell": {
     "cellMetadata": {
      "byteLimit": 2048000,
      "implicitDf": true,
      "rowLimit": 10000
     },
     "inputWidgets": {},
     "nuid": "35e2b644-f882-4ddf-bd3e-ae84a7cc9529",
     "showTitle": false,
     "title": ""
    }
   },
   "outputs": [],
   "source": [
    "%sql\n",
    "DESCRIBE HISTORY train_delta"
   ]
  },
  {
   "cell_type": "markdown",
   "metadata": {
    "application/vnd.databricks.v1+cell": {
     "cellMetadata": {},
     "inputWidgets": {},
     "nuid": "72b34d15-874a-4dab-a492-10eb216ee232",
     "showTitle": false,
     "title": "--i18n-8f796a3b-d9b5-4731-8177-18a1dd934adb"
    }
   },
   "source": [
    "\n",
    "\n",
    "\n",
    "Using the **`versionAsOf`** option allows you to easily access previous versions of our Delta Table."
   ]
  },
  {
   "cell_type": "code",
   "execution_count": 0,
   "metadata": {
    "application/vnd.databricks.v1+cell": {
     "cellMetadata": {
      "byteLimit": 2048000,
      "rowLimit": 10000
     },
     "inputWidgets": {},
     "nuid": "ff97bc55-af66-4023-95c0-44220631cdde",
     "showTitle": false,
     "title": ""
    }
   },
   "outputs": [],
   "source": [
    "df = spark.read.format(\"delta\").option(\"versionAsOf\", 0).load(delta_path)\n",
    "display(df)"
   ]
  },
  {
   "cell_type": "markdown",
   "metadata": {
    "application/vnd.databricks.v1+cell": {
     "cellMetadata": {},
     "inputWidgets": {},
     "nuid": "6230d719-1fca-472e-9c77-9bc7f4fa9457",
     "showTitle": false,
     "title": "--i18n-7492d08f-77c0-46dd-8347-289a2a992e03"
    }
   },
   "source": [
    "\n",
    "\n",
    "\n",
    "You can also access older versions using a timestamp.\n",
    "\n",
    "Replace the timestamp string with the information from your version history. \n",
    "\n",
    "<img src=\"https://files.training.databricks.com/images/icon_note_32.png\"> Note: You can use a date without the time information if necessary."
   ]
  },
  {
   "cell_type": "code",
   "execution_count": 0,
   "metadata": {
    "application/vnd.databricks.v1+cell": {
     "cellMetadata": {
      "byteLimit": 2048000,
      "rowLimit": 10000
     },
     "inputWidgets": {},
     "nuid": "be39e512-3e24-4852-b80e-ac7d7949f3da",
     "showTitle": false,
     "title": ""
    }
   },
   "outputs": [],
   "source": [
    "# TODO\n",
    "\n",
    "time_stamp_string = <FILL_IN>\n",
    "df = spark.read.format(\"delta\").option(\"timestampAsOf\", time_stamp_string).load(delta_path)\n",
    "display(df)"
   ]
  },
  {
   "cell_type": "markdown",
   "metadata": {
    "application/vnd.databricks.v1+cell": {
     "cellMetadata": {},
     "inputWidgets": {},
     "nuid": "579e63cb-30e5-4dce-be8d-d67932104b4e",
     "showTitle": false,
     "title": "--i18n-a10072d6-7351-46e6-a34b-100a1c2566f2"
    }
   },
   "source": [
    "\n",
    "\n",
    "### Vacuum \n",
    "\n",
    "Now that we're happy with our Delta Table, we can clean up our directory using **`VACUUM`**. Vacuum accepts a retention period in hours as an input."
   ]
  },
  {
   "cell_type": "markdown",
   "metadata": {
    "application/vnd.databricks.v1+cell": {
     "cellMetadata": {},
     "inputWidgets": {},
     "nuid": "fe916b7d-7355-4ee9-9e1e-92fc9e72889c",
     "showTitle": false,
     "title": "--i18n-a52c1e95-8122-4038-8cf1-2fc97afe4a3b"
    }
   },
   "source": [
    "\n",
    "\n",
    "\n",
    "It looks like our code doesn't run! By default, to prevent accidentally vacuuming recent commits, Delta Lake will not let users vacuum a period under 7 days or 168 hours. Once vacuumed, you cannot return to a prior commit through time travel, only your most recent Delta Table will be saved."
   ]
  },
  {
   "cell_type": "code",
   "execution_count": 0,
   "metadata": {
    "application/vnd.databricks.v1+cell": {
     "cellMetadata": {
      "byteLimit": 2048000,
      "rowLimit": 10000
     },
     "inputWidgets": {},
     "nuid": "8a2e7c55-bb4e-488d-8711-3fa2e0005565",
     "showTitle": false,
     "title": ""
    }
   },
   "outputs": [],
   "source": [
    "# from delta.tables import *\n",
    "\n",
    "# delta_table = DeltaTable.forPath(spark, delta_path)\n",
    "# delta_table.vacuum(0)"
   ]
  },
  {
   "cell_type": "markdown",
   "metadata": {
    "application/vnd.databricks.v1+cell": {
     "cellMetadata": {},
     "inputWidgets": {},
     "nuid": "4f6f2f71-fdc1-4a56-a5d8-ea4018ed246c",
     "showTitle": false,
     "title": "--i18n-f69d8001-a93e-4dce-ae97-4e84ee31120a"
    }
   },
   "source": [
    "\n",
    "\n",
    "\n",
    "We can workaround this by setting a spark configuration that will bypass the default retention period check."
   ]
  },
  {
   "cell_type": "code",
   "execution_count": 0,
   "metadata": {
    "application/vnd.databricks.v1+cell": {
     "cellMetadata": {
      "byteLimit": 2048000,
      "rowLimit": 10000
     },
     "inputWidgets": {},
     "nuid": "b81f8eaa-206d-409d-8475-a7bb8195adbd",
     "showTitle": false,
     "title": ""
    }
   },
   "outputs": [],
   "source": [
    "from delta.tables import *\n",
    "\n",
    "spark.conf.set(\"spark.databricks.delta.retentionDurationCheck.enabled\", \"false\")\n",
    "delta_table = DeltaTable.forPath(spark, delta_path)\n",
    "delta_table.vacuum(0)"
   ]
  },
  {
   "cell_type": "markdown",
   "metadata": {
    "application/vnd.databricks.v1+cell": {
     "cellMetadata": {},
     "inputWidgets": {},
     "nuid": "b5aa3533-2b3c-456e-abeb-fa5c14347127",
     "showTitle": false,
     "title": "--i18n-8f16824b-2cb5-4753-841e-d221fed27afc"
    }
   },
   "source": [
    "\n",
    "\n",
    "\n",
    "Let's take a look at our Delta Table files now. After vacuuming, the directory only holds the partition of our most recent Delta Table commit."
   ]
  },
  {
   "cell_type": "code",
   "execution_count": 0,
   "metadata": {
    "application/vnd.databricks.v1+cell": {
     "cellMetadata": {
      "byteLimit": 2048000,
      "rowLimit": 10000
     },
     "inputWidgets": {},
     "nuid": "504b95c2-6b09-48eb-9d07-accf5e9797cc",
     "showTitle": false,
     "title": ""
    }
   },
   "outputs": [],
   "source": [
    "display(dbutils.fs.ls(delta_path + \"/state=CA/\"))"
   ]
  },
  {
   "cell_type": "markdown",
   "metadata": {
    "application/vnd.databricks.v1+cell": {
     "cellMetadata": {},
     "inputWidgets": {},
     "nuid": "aff9119f-bb72-4847-a108-90d8200a408b",
     "showTitle": false,
     "title": "--i18n-ea8feef0-0ab1-4f62-9754-bc2183ded4f4"
    }
   },
   "source": [
    "\n",
    "\n",
    "\n",
    "Since vacuuming deletes files referenced by the Delta Table, we can no longer access past versions. \n",
    "\n",
    "The code below should throw an error.\n",
    "\n",
    "Uncomment it and give it a try."
   ]
  },
  {
   "cell_type": "code",
   "execution_count": 0,
   "metadata": {
    "application/vnd.databricks.v1+cell": {
     "cellMetadata": {
      "byteLimit": 2048000,
      "rowLimit": 10000
     },
     "inputWidgets": {},
     "nuid": "35700c43-96bd-4937-9f3f-c27a4338fe53",
     "showTitle": false,
     "title": ""
    }
   },
   "outputs": [],
   "source": [
    "# df = spark.read.format(\"delta\").option(\"versionAsOf\", 0).load(delta_path)\n",
    "# display(df)"
   ]
  },
  {
   "cell_type": "markdown",
   "metadata": {
    "application/vnd.databricks.v1+cell": {
     "cellMetadata": {},
     "inputWidgets": {},
     "nuid": "2ec8d10f-976b-45cb-8e24-2acd3aa28fcc",
     "showTitle": false,
     "title": "--i18n-12edf5ff-c28b-4b35-a7fe-2ec9efbdba72"
    }
   },
   "source": [
    "\n",
    "\n",
    "\n",
    "### Clean up classroom"
   ]
  },
  {
   "cell_type": "code",
   "execution_count": 0,
   "metadata": {
    "application/vnd.databricks.v1+cell": {
     "cellMetadata": {
      "byteLimit": 2048000,
      "rowLimit": 10000
     },
     "inputWidgets": {},
     "nuid": "926781bf-e17e-4a43-b83b-163f7a44ce1e",
     "showTitle": false,
     "title": ""
    }
   },
   "outputs": [],
   "source": [
    "DA.cleanup()"
   ]
  },
  {
   "cell_type": "markdown",
   "metadata": {
    "application/vnd.databricks.v1+cell": {
     "cellMetadata": {},
     "inputWidgets": {},
     "nuid": "7f3fed5e-8735-46d4-82d6-cf353dbe35df",
     "showTitle": false,
     "title": ""
    }
   },
   "source": [
    "&copy; 2023 Databricks, Inc. All rights reserved.<br/>\n",
    "Apache, Apache Spark, Spark and the Spark logo are trademarks of the <a href=\"https://www.apache.org/\">Apache Software Foundation</a>.<br/>\n",
    "<br/>\n",
    "<a href=\"https://databricks.com/privacy-policy\">Privacy Policy</a> | <a href=\"https://databricks.com/terms-of-use\">Terms of Use</a> | <a href=\"https://help.databricks.com/\">Support</a>"
   ]
  }
 ],
 "metadata": {
  "application/vnd.databricks.v1+notebook": {
   "dashboards": [],
   "language": "python",
   "notebookMetadata": {
    "mostRecentlyExecutedCommandWithImplicitDF": {
     "commandId": 486870689447430,
     "dataframes": [
      "_sqldf"
     ]
    },
    "pythonIndentUnit": 2
   },
   "notebookName": "ASP 6.1 - Delta Lake",
   "widgets": {}
  }
 },
 "nbformat": 4,
 "nbformat_minor": 0
}
